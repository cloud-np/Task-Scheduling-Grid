{
 "cells": [
  {
   "cell_type": "code",
   "execution_count": 2,
   "metadata": {},
   "outputs": [],
   "source": [
    "from algos.paper_2011_algos.paper_method import Paper2011\n",
    "from helpers.examples.example_data import HOLE_METHOD_VARIATIONS\n",
    "from helpers.visuals.visualize import Visualizer\n",
    "from classes.workflow import Workflow\n",
    "from classes.machine import Machine\n",
    "from helpers.examples.example_gen import ExampleGen\n",
    "from helpers.simulation.simulation import Simulation, save_sims_to_excel\n",
    "from classes.scheduler import FillMethod\n",
    "from helpers.pick_best_method import find_seed_for\n"
   ]
  },
  {
   "cell_type": "markdown",
   "metadata": {},
   "source": [
    "# Load Workflows and machines"
   ]
  },
  {
   "cell_type": "code",
   "execution_count": 7,
   "metadata": {},
   "outputs": [],
   "source": [
    "n = 10 \n",
    "ss = []\n",
    "n_machines = 8\n",
    "network = 500\n",
    "machines, workflows = ExampleGen.load_random_wfs([n_machines, network * 125], n)\n",
    "# print(f\"n-wfs: {n} machines: {n_machines}  network: {network}\")"
   ]
  },
  {
   "cell_type": "markdown",
   "metadata": {},
   "source": [
    "### Load methods to test"
   ]
  },
  {
   "cell_type": "code",
   "execution_count": null,
   "metadata": {},
   "outputs": [],
   "source": [
    "run_methods = [HOLE_METHOD_VARIATIONS[\"EFT_variations\"]]\n",
    "run_methods = sum(run_methods, [])"
   ]
  },
  {
   "cell_type": "markdown",
   "metadata": {},
   "source": [
    "### Run simulation"
   ]
  },
  {
   "cell_type": "code",
   "execution_count": 17,
   "metadata": {},
   "outputs": [],
   "source": [
    "ss = Simulation(run_methods, machines, workflows, visuals=True, save_fig=False, show_fig=True, save_sim=True, show_machines=False).run()"
   ]
  },
  {
   "cell_type": "code",
   "execution_count": 18,
   "metadata": {},
   "outputs": [
    {
     "name": "stdout",
     "output_type": "stream",
     "text": [
      "\t\u001b[45m\u001b[93mFASTEST-EST-EFT\n",
      "\u001b[39m\u001b[49m\n",
      "\u001b[34mTOTAL LEN:\u001b[39m 15159.658546000004\n",
      "\n",
      "\u001b[31mAVG MAKESPAN:\u001b[39m 7938.4316310666645\n",
      "n-tasks: \u001b[35m2079\u001b[39m machines: \u001b[35m8\u001b[39m network: \u001b[35m500.0\u001b[39m\n",
      "\n",
      "\t\u001b[45m\u001b[93mBEST-EST-EFT\n",
      "\u001b[39m\u001b[49m\n",
      "\u001b[34mTOTAL LEN:\u001b[39m 15430.235272000005\n",
      "\n",
      "\u001b[31mAVG MAKESPAN:\u001b[39m 8158.741348200003\n",
      "n-tasks: \u001b[35m2079\u001b[39m machines: \u001b[35m8\u001b[39m network: \u001b[35m500.0\u001b[39m\n",
      "\n",
      "\t\u001b[45m\u001b[93mFIRST-EST-EFT\n",
      "\u001b[39m\u001b[49m\n",
      "\u001b[34mTOTAL LEN:\u001b[39m 15159.658546000004\n",
      "\n",
      "\u001b[31mAVG MAKESPAN:\u001b[39m 7938.391235799999\n",
      "n-tasks: \u001b[35m2079\u001b[39m machines: \u001b[35m8\u001b[39m network: \u001b[35m500.0\u001b[39m\n",
      "\n",
      "\t\u001b[45m\u001b[93mWORST-EST-EFT\n",
      "\u001b[39m\u001b[49m\n",
      "\u001b[34mTOTAL LEN:\u001b[39m 15152.619820000002\n",
      "\n",
      "\u001b[31mAVG MAKESPAN:\u001b[39m 7943.4615668000015\n",
      "n-tasks: \u001b[35m2079\u001b[39m machines: \u001b[35m8\u001b[39m network: \u001b[35m500.0\u001b[39m\n",
      "\n"
     ]
    }
   ],
   "source": [
    "for s in ss:\n",
    "    print(s)"
   ]
  },
  {
   "cell_type": "code",
   "execution_count": 13,
   "metadata": {},
   "outputs": [
    {
     "name": "stdout",
     "output_type": "stream",
     "text": [
      "\t\u001b[45m\u001b[93mFASTEST-EST-EFT\n",
      "\u001b[39m\u001b[49m\n",
      "\u001b[34mTOTAL LEN:\u001b[39m 15159.658546000004\n",
      "\n",
      "\u001b[31mAVG MAKESPAN:\u001b[39m 7938.4316310666645\n",
      "n-tasks: \u001b[35m2079\u001b[39m machines: \u001b[35m8\u001b[39m network: \u001b[35m500.0\u001b[39m\n",
      "\n",
      "\t\u001b[45m\u001b[93mBEST-EST-EFT\n",
      "\u001b[39m\u001b[49m\n",
      "\u001b[34mTOTAL LEN:\u001b[39m 15430.235272000005\n",
      "\n",
      "\u001b[31mAVG MAKESPAN:\u001b[39m 8158.741348200003\n",
      "n-tasks: \u001b[35m2079\u001b[39m machines: \u001b[35m8\u001b[39m network: \u001b[35m500.0\u001b[39m\n",
      "\n",
      "\t\u001b[45m\u001b[93mFIRST-EST-EFT\n",
      "\u001b[39m\u001b[49m\n",
      "\u001b[34mTOTAL LEN:\u001b[39m 15159.658546000004\n",
      "\n",
      "\u001b[31mAVG MAKESPAN:\u001b[39m 7938.391235799999\n",
      "n-tasks: \u001b[35m2079\u001b[39m machines: \u001b[35m8\u001b[39m network: \u001b[35m500.0\u001b[39m\n",
      "\n",
      "\t\u001b[45m\u001b[93mWORST-EST-EFT\n",
      "\u001b[39m\u001b[49m\n",
      "\u001b[34mTOTAL LEN:\u001b[39m 15152.619820000002\n",
      "\n",
      "\u001b[31mAVG MAKESPAN:\u001b[39m 7943.4615668\n",
      "n-tasks: \u001b[35m2079\u001b[39m machines: \u001b[35m8\u001b[39m network: \u001b[35m500.0\u001b[39m\n",
      "\n"
     ]
    }
   ],
   "source": [
    "for s in ss:\n",
    "    print(s)"
   ]
  }
 ],
 "metadata": {
  "interpreter": {
   "hash": "512a0c9cd16f2345724b9d2b59c2b8a8698ffc8f58dc78edd213ea337ffa184d"
  },
  "kernelspec": {
   "display_name": "Python 3.8.10 64-bit ('venv': venv)",
   "language": "python",
   "name": "python3"
  },
  "language_info": {
   "codemirror_mode": {
    "name": "ipython",
    "version": 3
   },
   "file_extension": ".py",
   "mimetype": "text/x-python",
   "name": "python",
   "nbconvert_exporter": "python",
   "pygments_lexer": "ipython3",
   "version": "3.8.10"
  },
  "orig_nbformat": 4
 },
 "nbformat": 4,
 "nbformat_minor": 2
}
