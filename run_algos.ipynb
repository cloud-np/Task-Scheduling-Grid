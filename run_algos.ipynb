{
 "cells": [
  {
   "cell_type": "code",
   "execution_count": 1,
   "metadata": {},
   "outputs": [],
   "source": [
    "from algos.paper_2011_algos.paper_method import Paper2011\n",
    "from helpers.examples.example_data import HOLE_METHOD_VARIATIONS\n",
    "from helpers.visuals.visualize import Visualizer\n",
    "from classes.workflow import Workflow\n",
    "from classes.machine import Machine\n",
    "from helpers.examples.example_gen import ExampleGen\n",
    "from helpers.simulation.simulation import Simulation, save_sims_to_excel\n",
    "from classes.scheduler import FillMethod, Scheduler\n",
    "from helpers.pick_best_method import find_seed_for\n",
    "import random\n",
    "\n",
    "random.seed(0)"
   ]
  },
  {
   "cell_type": "markdown",
   "metadata": {},
   "source": [
    "# Load Workflows and machines"
   ]
  },
  {
   "cell_type": "code",
   "execution_count": 2,
   "metadata": {},
   "outputs": [],
   "source": [
    "ss = []\n",
    "n_machines = 4 \n",
    "network = 500\n",
    "\n",
    "# machines, workflows = ExampleGen.load_n(m_info=[8, 125 * 50], n_wfs=n_wfs)\n",
    "machines = Machine.load_n_static_machines(n_machines, network * 125)\n",
    "workflow = Workflow(id_=0, file_path=\"./data/epigenomics/epigenomics_100.json\", wf_type=\"epigenomics\", machines=machines, add_dummies=True)\n",
    "# print(workflow)\n",
    "# print(f\"n-wfs: {n} machines: {n_machines}  network: {network}\")"
   ]
  },
  {
   "cell_type": "code",
   "execution_count": 3,
   "metadata": {},
   "outputs": [
    {
     "name": "stdout",
     "output_type": "stream",
     "text": [
      "579.5065\n"
     ]
    }
   ],
   "source": [
    "Scheduler.heft(workflow.tasks, workflow.machines)\n",
    "workflow.set_scheduled(is_scheduled=True)\n",
    "print(workflow.wf_len)"
   ]
  },
  {
   "cell_type": "code",
   "execution_count": 4,
   "metadata": {},
   "outputs": [],
   "source": [
    "from algos.ruin_and_recreate import RuinRecreate\n",
    "from helpers.utils import find_perc_diff\n",
    "rr = RuinRecreate(workflow, machines, ruin_method=\"random\")"
   ]
  },
  {
   "cell_type": "code",
   "execution_count": 5,
   "metadata": {},
   "outputs": [
    {
     "name": "stdout",
     "output_type": "stream",
     "text": [
      "571.2534999999999\n",
      "1.42\n"
     ]
    }
   ],
   "source": [
    "new_workflow, machines = rr.run()\n",
    "print(new_workflow.wf_len)\n",
    "print(find_perc_diff(workflow.wf_len, new_workflow.wf_len))"
   ]
  }
 ],
 "metadata": {
  "interpreter": {
   "hash": "512a0c9cd16f2345724b9d2b59c2b8a8698ffc8f58dc78edd213ea337ffa184d"
  },
  "kernelspec": {
   "display_name": "Python 3.8.10 64-bit ('venv': venv)",
   "language": "python",
   "name": "python3"
  },
  "language_info": {
   "codemirror_mode": {
    "name": "ipython",
    "version": 3
   },
   "file_extension": ".py",
   "mimetype": "text/x-python",
   "name": "python",
   "nbconvert_exporter": "python",
   "pygments_lexer": "ipython3",
   "version": "3.8.10"
  },
  "orig_nbformat": 4
 },
 "nbformat": 4,
 "nbformat_minor": 2
}
