{
 "cells": [
  {
   "cell_type": "code",
   "execution_count": 5,
   "metadata": {},
   "outputs": [],
   "source": [
    "from algos.paper_2011_algos.paper_method import Paper2011\n",
    "from helpers.examples.example_data import HOLE_METHOD_VARIATIONS\n",
    "from helpers.visuals.visualize import Visualizer\n",
    "from classes.workflow import Workflow\n",
    "from classes.machine import Machine\n",
    "from helpers.examples.example_gen import ExampleGen\n",
    "from helpers.simulation.simulation import Simulation, save_sims_to_excel\n",
    "from classes.scheduler import FillMethod, Scheduler\n",
    "from helpers.pick_best_method import find_seed_for\n"
   ]
  },
  {
   "cell_type": "markdown",
   "metadata": {},
   "source": [
    "# Load Workflows and machines"
   ]
  },
  {
   "cell_type": "code",
   "execution_count": 6,
   "metadata": {},
   "outputs": [],
   "source": [
    "n = 10 \n",
    "ss = []\n",
    "n_machines = 8\n",
    "network = 500\n",
    "machines = Machine.load_n_static_machines(n=4, network=network * 125)\n",
    "workflow = Workflow(id_=0, file_path=\"./datasets/epigenomics/epigenomics_20.json\", wf_type=\"epigenomics\", machines=machines, add_dummies=True)\n",
    "Scheduler.heft(workflow.tasks, workflow.machines)\n",
    "workflow.scheduled = True\n",
    "\n",
    "# print(f\"n-wfs: {n} machines: {n_machines}  network: {network}\")"
   ]
  },
  {
   "cell_type": "code",
   "execution_count": 7,
   "metadata": {},
   "outputs": [
    {
     "name": "stdout",
     "output_type": "stream",
     "text": [
      "[<classes.task.Task object at 0x7f7cf9199ee0>, <classes.task.Task object at 0x7f7cf86d1520>, <classes.task.Task object at 0x7f7cf8fd9610>, <classes.task.Task object at 0x7f7cf8fc3f10>, <classes.task.Task object at 0x7f7cf8fc3160>, <classes.task.Task object at 0x7f7cf90647c0>, <classes.task.Task object at 0x7f7cf9064a90>, <classes.task.Task object at 0x7f7cf8fc3700>, <classes.task.Task object at 0x7f7cf86c5370>, <classes.task.Task object at 0x7f7cf9521820>, <classes.task.Task object at 0x7f7cf95215e0>, <classes.task.Task object at 0x7f7cf86c53d0>, <classes.task.Task object at 0x7f7cf86d1340>, <classes.task.Task object at 0x7f7cf86c5880>, <classes.task.Task object at 0x7f7cf86c57c0>, <classes.task.Task object at 0x7f7cf86c5220>, <classes.task.Task object at 0x7f7cf925f4c0>]\n"
     ]
    },
    {
     "data": {
      "text/plain": [
       "<algos.ruin_and_recreate.RuinRecreate at 0x7f7cf8fc8340>"
      ]
     },
     "execution_count": 7,
     "metadata": {},
     "output_type": "execute_result"
    }
   ],
   "source": [
    "from algos.ruin_and_recreate import RuinRecreate\n",
    "\n",
    "RuinRecreate(workflow, machines)"
   ]
  },
  {
   "cell_type": "markdown",
   "metadata": {},
   "source": [
    "### Load methods to test"
   ]
  },
  {
   "cell_type": "code",
   "execution_count": null,
   "metadata": {},
   "outputs": [],
   "source": [
    "run_methods = [HOLE_METHOD_VARIATIONS[\"EFT_variations\"]]\n",
    "run_methods = sum(run_methods, [])"
   ]
  },
  {
   "cell_type": "markdown",
   "metadata": {},
   "source": [
    "### Run simulation"
   ]
  },
  {
   "cell_type": "code",
   "execution_count": null,
   "metadata": {},
   "outputs": [],
   "source": [
    "ss = Simulation(run_methods, machines, [workflow], visuals=True, save_fig=False, show_fig=True, save_sim=True, show_machines=False).run()"
   ]
  },
  {
   "cell_type": "code",
   "execution_count": null,
   "metadata": {},
   "outputs": [
    {
     "name": "stdout",
     "output_type": "stream",
     "text": [
      "\t\u001b[45m\u001b[93mFASTEST-EST-EFT\n",
      "\u001b[39m\u001b[49m\n",
      "\u001b[34mTOTAL LEN:\u001b[39m 1134.786\n",
      "\n",
      "\u001b[31mAVG MAKESPAN:\u001b[39m 1134.786\n",
      "n-tasks: \u001b[35m17\u001b[39m machines: \u001b[35m4\u001b[39m network: \u001b[35m500.0\u001b[39m\n",
      "\n",
      "\t\u001b[45m\u001b[93mBEST-EST-EFT\n",
      "\u001b[39m\u001b[49m\n",
      "\u001b[34mTOTAL LEN:\u001b[39m 1134.786\n",
      "\n",
      "\u001b[31mAVG MAKESPAN:\u001b[39m 1134.786\n",
      "n-tasks: \u001b[35m17\u001b[39m machines: \u001b[35m4\u001b[39m network: \u001b[35m500.0\u001b[39m\n",
      "\n",
      "\t\u001b[45m\u001b[93mFIRST-EST-EFT\n",
      "\u001b[39m\u001b[49m\n",
      "\u001b[34mTOTAL LEN:\u001b[39m 1134.786\n",
      "\n",
      "\u001b[31mAVG MAKESPAN:\u001b[39m 1134.786\n",
      "n-tasks: \u001b[35m17\u001b[39m machines: \u001b[35m4\u001b[39m network: \u001b[35m500.0\u001b[39m\n",
      "\n",
      "\t\u001b[45m\u001b[93mWORST-EST-EFT\n",
      "\u001b[39m\u001b[49m\n",
      "\u001b[34mTOTAL LEN:\u001b[39m 1134.786\n",
      "\n",
      "\u001b[31mAVG MAKESPAN:\u001b[39m 1134.786\n",
      "n-tasks: \u001b[35m17\u001b[39m machines: \u001b[35m4\u001b[39m network: \u001b[35m500.0\u001b[39m\n",
      "\n"
     ]
    }
   ],
   "source": [
    "for s in ss:\n",
    "    print(s)"
   ]
  }
 ],
 "metadata": {
  "interpreter": {
   "hash": "512a0c9cd16f2345724b9d2b59c2b8a8698ffc8f58dc78edd213ea337ffa184d"
  },
  "kernelspec": {
   "display_name": "Python 3.8.10 64-bit ('venv': venv)",
   "language": "python",
   "name": "python3"
  },
  "language_info": {
   "codemirror_mode": {
    "name": "ipython",
    "version": 3
   },
   "file_extension": ".py",
   "mimetype": "text/x-python",
   "name": "python",
   "nbconvert_exporter": "python",
   "pygments_lexer": "ipython3",
   "version": "3.8.10"
  },
  "orig_nbformat": 4
 },
 "nbformat": 4,
 "nbformat_minor": 2
}
