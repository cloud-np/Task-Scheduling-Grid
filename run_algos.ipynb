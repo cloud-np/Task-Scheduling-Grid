{
 "cells": [
  {
   "cell_type": "code",
   "execution_count": 1,
   "metadata": {},
   "outputs": [],
   "source": [
    "from algos.paper_2011_algos.paper_method import Paper2011\n",
    "from helpers.examples.example_data import HOLE_METHOD_VARIATIONS\n",
    "from helpers.visuals.visualize import Visualizer\n",
    "from classes.workflow import Workflow\n",
    "from classes.machine import Machine\n",
    "from helpers.examples.example_gen import ExampleGen\n",
    "from helpers.simulation.simulation import Simulation, save_sims_to_excel\n",
    "from classes.scheduler import FillMethod, Scheduler\n",
    "from helpers.pick_best_method import find_seed_for\n",
    "import random\n",
    "\n",
    "random.seed(0)"
   ]
  },
  {
   "cell_type": "markdown",
   "metadata": {},
   "source": [
    "# Load Workflows and machines"
   ]
  },
  {
   "cell_type": "code",
   "execution_count": 2,
   "metadata": {},
   "outputs": [],
   "source": [
    "ss = []\n",
    "n_machines = 4 \n",
    "network = 500\n",
    "\n",
    "# machines, workflows = ExampleGen.load_n(m_info=[8, 125 * 50], n_wfs=n_wfs)\n",
    "machines = Machine.load_n_static_machines(n_machines, network * 125)\n",
    "workflow = Workflow(id_=0, file_path=\"./data/epigenomics/epigenomics_100.json\", wf_type=\"epigenomics\", machines=machines, add_dummies=True)\n",
    "# print(workflow)\n",
    "# print(f\"n-wfs: {n} machines: {n_machines}  network: {network}\")"
   ]
  },
  {
   "cell_type": "code",
   "execution_count": 3,
   "metadata": {},
   "outputs": [
    {
     "name": "stdout",
     "output_type": "stream",
     "text": [
      "561.3643199999999\n"
     ]
    }
   ],
   "source": [
    "Scheduler.heft(workflow.tasks, workflow.machines)\n",
    "workflow.set_scheduled(is_scheduled=True)\n",
    "print(workflow.wf_len)"
   ]
  },
  {
   "cell_type": "code",
   "execution_count": 4,
   "metadata": {},
   "outputs": [],
   "source": [
    "from algos.ruin_and_recreate import RuinRecreate\n",
    "from helpers.utils import find_perc_diff\n",
    "rr = RuinRecreate(workflow, machines, ruin_method=\"comp\")"
   ]
  },
  {
   "cell_type": "code",
   "execution_count": 5,
   "metadata": {},
   "outputs": [
    {
     "ename": "TypeError",
     "evalue": "slice indices must be integers or None or have an __index__ method",
     "output_type": "error",
     "traceback": [
      "\u001b[0;31m---------------------------------------------------------------------------\u001b[0m",
      "\u001b[0;31mTypeError\u001b[0m                                 Traceback (most recent call last)",
      "Input \u001b[0;32mIn [5]\u001b[0m, in \u001b[0;36m<module>\u001b[0;34m\u001b[0m\n\u001b[0;32m----> 1\u001b[0m new_workflow, machines \u001b[38;5;241m=\u001b[39m \u001b[43mrr\u001b[49m\u001b[38;5;241;43m.\u001b[39;49m\u001b[43mrun\u001b[49m\u001b[43m(\u001b[49m\u001b[43m)\u001b[49m\n\u001b[1;32m      2\u001b[0m \u001b[38;5;28mprint\u001b[39m(new_workflow\u001b[38;5;241m.\u001b[39mwf_len)\n\u001b[1;32m      3\u001b[0m \u001b[38;5;28mprint\u001b[39m(find_perc_diff(workflow\u001b[38;5;241m.\u001b[39mwf_len, new_workflow\u001b[38;5;241m.\u001b[39mwf_len))\n",
      "File \u001b[0;32m~/Programming/Task-Scheduling-Grid/algos/ruin_and_recreate.py:53\u001b[0m, in \u001b[0;36mRuinRecreate.run\u001b[0;34m(self)\u001b[0m\n\u001b[1;32m     50\u001b[0m unscheduled_workflow \u001b[38;5;241m=\u001b[39m workflows[\u001b[38;5;241m0\u001b[39m]\n\u001b[1;32m     52\u001b[0m \u001b[38;5;66;03m# Ruin part\u001b[39;00m\n\u001b[0;32m---> 53\u001b[0m ruined_tasks_ids \u001b[38;5;241m=\u001b[39m \u001b[38;5;28;43mself\u001b[39;49m\u001b[38;5;241;43m.\u001b[39;49m\u001b[43m__ruin\u001b[49m\u001b[43m(\u001b[49m\u001b[43mbest_scheduled_workflow\u001b[49m\u001b[43m)\u001b[49m\n\u001b[1;32m     55\u001b[0m \u001b[38;5;66;03m# Recreate part\u001b[39;00m\n\u001b[1;32m     56\u001b[0m \u001b[38;5;28mself\u001b[39m\u001b[38;5;241m.\u001b[39m__recreate(unscheduled_workflow, machines, ruined_tasks_ids)\n",
      "File \u001b[0;32m~/Programming/Task-Scheduling-Grid/algos/ruin_and_recreate.py:78\u001b[0m, in \u001b[0;36mRuinRecreate.__ruin\u001b[0;34m(self, workflow)\u001b[0m\n\u001b[1;32m     76\u001b[0m     \u001b[38;5;28;01mreturn\u001b[39;00m [(t\u001b[38;5;241m.\u001b[39mid, t\u001b[38;5;241m.\u001b[39mmachine_id) \u001b[38;5;28;01mfor\u001b[39;00m t \u001b[38;5;129;01min\u001b[39;00m workflow\u001b[38;5;241m.\u001b[39mtasks \u001b[38;5;28;01mif\u001b[39;00m random\u001b[38;5;241m.\u001b[39mrandint(\u001b[38;5;241m0\u001b[39m, \u001b[38;5;241m10\u001b[39m) \u001b[38;5;241m<\u001b[39m \u001b[38;5;241m5\u001b[39m]\n\u001b[1;32m     77\u001b[0m \u001b[38;5;28;01mif\u001b[39;00m \u001b[38;5;28mself\u001b[39m\u001b[38;5;241m.\u001b[39mruin_method \u001b[38;5;241m==\u001b[39m \u001b[38;5;124m\"\u001b[39m\u001b[38;5;124mcomp\u001b[39m\u001b[38;5;124m\"\u001b[39m \u001b[38;5;129;01mor\u001b[39;00m \u001b[38;5;28mself\u001b[39m\u001b[38;5;241m.\u001b[39mruin_method \u001b[38;5;241m==\u001b[39m \u001b[38;5;124m\"\u001b[39m\u001b[38;5;124mcomm\u001b[39m\u001b[38;5;124m\"\u001b[39m:\n\u001b[0;32m---> 78\u001b[0m     data \u001b[38;5;241m=\u001b[39m [(t\u001b[38;5;241m.\u001b[39mid, t\u001b[38;5;241m.\u001b[39mmachine_id) \u001b[38;5;28;01mfor\u001b[39;00m t \u001b[38;5;129;01min\u001b[39;00m \u001b[38;5;28;43mself\u001b[39;49m\u001b[38;5;241;43m.\u001b[39;49m\u001b[43msorted_tasks\u001b[49m\u001b[43m[\u001b[49m\u001b[38;5;28;43mself\u001b[39;49m\u001b[38;5;241;43m.\u001b[39;49m\u001b[43mruin_lb\u001b[49m\u001b[43m:\u001b[49m\u001b[38;5;28;43mself\u001b[39;49m\u001b[38;5;241;43m.\u001b[39;49m\u001b[43mruin_ub\u001b[49m\u001b[43m]\u001b[49m]\n\u001b[1;32m     79\u001b[0m     \u001b[38;5;28mself\u001b[39m\u001b[38;5;241m.\u001b[39mruin_lb \u001b[38;5;241m=\u001b[39m \u001b[38;5;28mself\u001b[39m\u001b[38;5;241m.\u001b[39mruin_ub\n\u001b[1;32m     80\u001b[0m     \u001b[38;5;28mself\u001b[39m\u001b[38;5;241m.\u001b[39mruin_ub \u001b[38;5;241m+\u001b[39m\u001b[38;5;241m=\u001b[39m \u001b[38;5;28mself\u001b[39m\u001b[38;5;241m.\u001b[39mten_perc\n",
      "\u001b[0;31mTypeError\u001b[0m: slice indices must be integers or None or have an __index__ method"
     ]
    }
   ],
   "source": [
    "new_workflow, machines = rr.run()\n",
    "print(new_workflow.wf_len)\n",
    "print(find_perc_diff(workflow.wf_len, new_workflow.wf_len))"
   ]
  },
  {
   "cell_type": "code",
   "execution_count": null,
   "metadata": {},
   "outputs": [],
   "source": []
  }
 ],
 "metadata": {
  "interpreter": {
   "hash": "512a0c9cd16f2345724b9d2b59c2b8a8698ffc8f58dc78edd213ea337ffa184d"
  },
  "kernelspec": {
   "display_name": "Python 3.8.10 64-bit ('venv': venv)",
   "language": "python",
   "name": "python3"
  },
  "language_info": {
   "codemirror_mode": {
    "name": "ipython",
    "version": 3
   },
   "file_extension": ".py",
   "mimetype": "text/x-python",
   "name": "python",
   "nbconvert_exporter": "python",
   "pygments_lexer": "ipython3",
   "version": "3.8.10"
  },
  "orig_nbformat": 4
 },
 "nbformat": 4,
 "nbformat_minor": 2
}
