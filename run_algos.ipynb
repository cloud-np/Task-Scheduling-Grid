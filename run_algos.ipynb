{
 "cells": [
  {
   "cell_type": "code",
   "execution_count": 11,
   "metadata": {},
   "outputs": [],
   "source": [
    "from algos.paper_2011_algos.paper_method import Paper2011\n",
    "from helpers.examples.example_data import HOLE_METHOD_VARIATIONS\n",
    "from helpers.visuals.visualize import Visualizer\n",
    "from classes.workflow import Workflow\n",
    "from classes.machine import Machine\n",
    "from helpers.examples.example_gen import ExampleGen\n",
    "from helpers.simulation.simulation import Simulation, save_sims_to_excel\n",
    "from classes.scheduler import FillMethod, Scheduler\n",
    "from helpers.pick_best_method import find_seed_for\n",
    "import random\n",
    "\n",
    "random.seed(0)"
   ]
  },
  {
   "cell_type": "markdown",
   "metadata": {},
   "source": [
    "# Load Workflows and machines"
   ]
  },
  {
   "cell_type": "code",
   "execution_count": 1,
   "metadata": {},
   "outputs": [
    {
     "ename": "NameError",
     "evalue": "name 'Machine' is not defined",
     "output_type": "error",
     "traceback": [
      "\u001b[0;31m---------------------------------------------------------------------------\u001b[0m",
      "\u001b[0;31mNameError\u001b[0m                                 Traceback (most recent call last)",
      "\u001b[1;32m/home/cloud/Task-Scheduling-Grid/run_algos.ipynb Cell 3'\u001b[0m in \u001b[0;36m<module>\u001b[0;34m\u001b[0m\n\u001b[1;32m      <a href='vscode-notebook-cell://wsl%2Bubuntu/home/cloud/Task-Scheduling-Grid/run_algos.ipynb#ch0000002vscode-remote?line=2'>3</a>\u001b[0m network \u001b[39m=\u001b[39m \u001b[39m500\u001b[39m\n\u001b[1;32m      <a href='vscode-notebook-cell://wsl%2Bubuntu/home/cloud/Task-Scheduling-Grid/run_algos.ipynb#ch0000002vscode-remote?line=4'>5</a>\u001b[0m \u001b[39m# machines, workflows = ExampleGen.load_n(m_info=[8, 125 * 50], n_wfs=n_wfs)\u001b[39;00m\n\u001b[0;32m----> <a href='vscode-notebook-cell://wsl%2Bubuntu/home/cloud/Task-Scheduling-Grid/run_algos.ipynb#ch0000002vscode-remote?line=5'>6</a>\u001b[0m machines \u001b[39m=\u001b[39m Machine\u001b[39m.\u001b[39mload_n_static_machines(n_machines, network \u001b[39m*\u001b[39m \u001b[39m125\u001b[39m)\n\u001b[1;32m      <a href='vscode-notebook-cell://wsl%2Bubuntu/home/cloud/Task-Scheduling-Grid/run_algos.ipynb#ch0000002vscode-remote?line=6'>7</a>\u001b[0m workflow \u001b[39m=\u001b[39m Workflow(id_\u001b[39m=\u001b[39m\u001b[39m0\u001b[39m, file_path\u001b[39m=\u001b[39m\u001b[39m\"\u001b[39m\u001b[39m./data/generated_dags/100_0.8_0.2_0.8_2.dot\u001b[39m\u001b[39m\"\u001b[39m, wf_type\u001b[39m=\u001b[39m\u001b[39m\"\u001b[39m\u001b[39mrandom\u001b[39m\u001b[39m\"\u001b[39m, machines\u001b[39m=\u001b[39mmachines, add_dummies\u001b[39m=\u001b[39m\u001b[39mTrue\u001b[39;00m)\n",
      "\u001b[0;31mNameError\u001b[0m: name 'Machine' is not defined"
     ]
    }
   ],
   "source": [
    "ss = []\n",
    "n_machines = 4 \n",
    "network = 500\n",
    "\n",
    "# machines, workflows = ExampleGen.load_n(m_info=[8, 125 * 50], n_wfs=n_wfs)\n",
    "machines = Machine.load_n_static_machines(n_machines, network * 125)\n",
    "workflow = Workflow(id_=0, file_path=\"./data/generated_dags/100_0.8_0.2_0.8_2.dot\", wf_type=\"random\", machines=machines, add_dummies=True)\n",
    "# workflow = Workflow(id_=0, file_path=\"./data/epigenomics/epigenomics_100_0.json\", wf_type=\"epigenomics\", machines=machines, add_dummies=True)\n",
    "# print(workflow)\n",
    "# print(f\"n-wfs: {n} machines: {n_machines}  network: {network}\")"
   ]
  },
  {
   "cell_type": "code",
   "execution_count": 13,
   "metadata": {},
   "outputs": [
    {
     "name": "stdout",
     "output_type": "stream",
     "text": [
      "248.114\n"
     ]
    }
   ],
   "source": [
    "Scheduler.heft(workflow.tasks, workflow.machines)\n",
    "workflow.set_scheduled(is_scheduled=True)\n",
    "print(workflow.wf_len)"
   ]
  },
  {
   "cell_type": "code",
   "execution_count": 14,
   "metadata": {},
   "outputs": [],
   "source": [
    "from algos.ruin_and_recreate import RuinRecreate\n",
    "from helpers.utils import find_perc_diff\n",
    "rr = RuinRecreate(workflow, machines, ruin_method=\"random\")"
   ]
  },
  {
   "cell_type": "code",
   "execution_count": 15,
   "metadata": {},
   "outputs": [
    {
     "ename": "Exception",
     "evalue": "Task[21] wf[0] has not ready state! It has status of: 0",
     "output_type": "error",
     "traceback": [
      "\u001b[0;31m---------------------------------------------------------------------------\u001b[0m",
      "\u001b[0;31mException\u001b[0m                                 Traceback (most recent call last)",
      "\u001b[1;32m/home/cloud/Task-Scheduling-Grid/run_algos.ipynb Cell 6'\u001b[0m in \u001b[0;36m<module>\u001b[0;34m\u001b[0m\n\u001b[0;32m----> <a href='vscode-notebook-cell://wsl%2Bubuntu/home/cloud/Task-Scheduling-Grid/run_algos.ipynb#ch0000006vscode-remote?line=0'>1</a>\u001b[0m new_workflow, machines \u001b[39m=\u001b[39m rr\u001b[39m.\u001b[39;49mrun()\n\u001b[1;32m      <a href='vscode-notebook-cell://wsl%2Bubuntu/home/cloud/Task-Scheduling-Grid/run_algos.ipynb#ch0000006vscode-remote?line=1'>2</a>\u001b[0m \u001b[39mprint\u001b[39m(new_workflow\u001b[39m.\u001b[39mwf_len)\n\u001b[1;32m      <a href='vscode-notebook-cell://wsl%2Bubuntu/home/cloud/Task-Scheduling-Grid/run_algos.ipynb#ch0000006vscode-remote?line=2'>3</a>\u001b[0m \u001b[39mprint\u001b[39m(find_perc_diff(workflow\u001b[39m.\u001b[39mwf_len, new_workflow\u001b[39m.\u001b[39mwf_len))\n",
      "File \u001b[0;32m~/Task-Scheduling-Grid/algos/ruin_and_recreate.py:56\u001b[0m, in \u001b[0;36mRuinRecreate.run\u001b[0;34m(self)\u001b[0m\n\u001b[1;32m     <a href='file:///home/cloud/Task-Scheduling-Grid/algos/ruin_and_recreate.py?line=52'>53</a>\u001b[0m     ruined_tasks_ids \u001b[39m=\u001b[39m \u001b[39mself\u001b[39m\u001b[39m.\u001b[39m__ruin(best_scheduled_workflow)\n\u001b[1;32m     <a href='file:///home/cloud/Task-Scheduling-Grid/algos/ruin_and_recreate.py?line=54'>55</a>\u001b[0m     \u001b[39m# Recreate part\u001b[39;00m\n\u001b[0;32m---> <a href='file:///home/cloud/Task-Scheduling-Grid/algos/ruin_and_recreate.py?line=55'>56</a>\u001b[0m     \u001b[39mself\u001b[39;49m\u001b[39m.\u001b[39;49m__recreate(unscheduled_workflow, machines, ruined_tasks_ids)\n\u001b[1;32m     <a href='file:///home/cloud/Task-Scheduling-Grid/algos/ruin_and_recreate.py?line=56'>57</a>\u001b[0m     best_scheduled_workflow, end_loop \u001b[39m=\u001b[39m \u001b[39mself\u001b[39m\u001b[39m.\u001b[39mgreedy_keep(unscheduled_workflow, best_scheduled_workflow)\n\u001b[1;32m     <a href='file:///home/cloud/Task-Scheduling-Grid/algos/ruin_and_recreate.py?line=58'>59</a>\u001b[0m \u001b[39mreturn\u001b[39;00m best_scheduled_workflow, machines\n",
      "File \u001b[0;32m~/Task-Scheduling-Grid/algos/ruin_and_recreate.py:95\u001b[0m, in \u001b[0;36mRuinRecreate.__recreate\u001b[0;34m(self, workflow, machines, ruined_mt_ids)\u001b[0m\n\u001b[1;32m     <a href='file:///home/cloud/Task-Scheduling-Grid/algos/ruin_and_recreate.py?line=92'>93</a>\u001b[0m         Scheduler\u001b[39m.\u001b[39mschedule_task_machine(task, [m \u001b[39mfor\u001b[39;00m m \u001b[39min\u001b[39;00m machines \u001b[39mif\u001b[39;00m m\u001b[39m.\u001b[39mid \u001b[39m!=\u001b[39m m_id[\u001b[39m0\u001b[39m]], TimeType\u001b[39m.\u001b[39mEFT)\n\u001b[1;32m     <a href='file:///home/cloud/Task-Scheduling-Grid/algos/ruin_and_recreate.py?line=93'>94</a>\u001b[0m     \u001b[39mif\u001b[39;00m task\u001b[39m.\u001b[39mstatus \u001b[39m!=\u001b[39m TaskStatus\u001b[39m.\u001b[39mSCHEDULED:\n\u001b[0;32m---> <a href='file:///home/cloud/Task-Scheduling-Grid/algos/ruin_and_recreate.py?line=94'>95</a>\u001b[0m         Scheduler\u001b[39m.\u001b[39;49mschedule_task_machine(task, machines, TimeType\u001b[39m.\u001b[39;49mEFT)\n\u001b[1;32m     <a href='file:///home/cloud/Task-Scheduling-Grid/algos/ruin_and_recreate.py?line=95'>96</a>\u001b[0m workflow\u001b[39m.\u001b[39mset_scheduled(\u001b[39mTrue\u001b[39;00m)\n",
      "File \u001b[0;32m~/Task-Scheduling-Grid/classes/scheduler.py:412\u001b[0m, in \u001b[0;36mScheduler.schedule_task_machine\u001b[0;34m(task, machines, time_type, fill_method)\u001b[0m\n\u001b[1;32m    <a href='file:///home/cloud/Task-Scheduling-Grid/classes/scheduler.py?line=408'>409</a>\u001b[0m \u001b[39m@staticmethod\u001b[39m\n\u001b[1;32m    <a href='file:///home/cloud/Task-Scheduling-Grid/classes/scheduler.py?line=409'>410</a>\u001b[0m \u001b[39mdef\u001b[39;00m \u001b[39mschedule_task_machine\u001b[39m(task, machines, time_type, fill_method\u001b[39m=\u001b[39mFillMethod\u001b[39m.\u001b[39mNO_FILL):\n\u001b[1;32m    <a href='file:///home/cloud/Task-Scheduling-Grid/classes/scheduler.py?line=410'>411</a>\u001b[0m     \u001b[39mif\u001b[39;00m task\u001b[39m.\u001b[39mstatus \u001b[39m!=\u001b[39m TaskStatus\u001b[39m.\u001b[39mREADY:\n\u001b[0;32m--> <a href='file:///home/cloud/Task-Scheduling-Grid/classes/scheduler.py?line=411'>412</a>\u001b[0m         \u001b[39mraise\u001b[39;00m \u001b[39mException\u001b[39;00m(\u001b[39mf\u001b[39m\u001b[39m\"\u001b[39m\u001b[39mTask[\u001b[39m\u001b[39m{\u001b[39;00mtask\u001b[39m.\u001b[39mid\u001b[39m}\u001b[39;00m\u001b[39m] wf[\u001b[39m\u001b[39m{\u001b[39;00mtask\u001b[39m.\u001b[39mwf_id\u001b[39m}\u001b[39;00m\u001b[39m] has not ready state! It has status of: \u001b[39m\u001b[39m{\u001b[39;00mtask\u001b[39m.\u001b[39mstatus\u001b[39m}\u001b[39;00m\u001b[39m\"\u001b[39m)\n\u001b[1;32m    <a href='file:///home/cloud/Task-Scheduling-Grid/classes/scheduler.py?line=412'>413</a>\u001b[0m     start, end, machine \u001b[39m=\u001b[39m Scheduler\u001b[39m.\u001b[39mfind_machine(task, machines, time_type)\n\u001b[1;32m    <a href='file:///home/cloud/Task-Scheduling-Grid/classes/scheduler.py?line=414'>415</a>\u001b[0m     Scheduler\u001b[39m.\u001b[39mschedule_task((start, end), task, machine\u001b[39m=\u001b[39mmachine)\n",
      "\u001b[0;31mException\u001b[0m: Task[21] wf[0] has not ready state! It has status of: 0"
     ]
    }
   ],
   "source": [
    "new_workflow, machines = rr.run()\n",
    "print(new_workflow.wf_len)\n",
    "print(find_perc_diff(workflow.wf_len, new_workflow.wf_len))"
   ]
  }
 ],
 "metadata": {
  "interpreter": {
   "hash": "512a0c9cd16f2345724b9d2b59c2b8a8698ffc8f58dc78edd213ea337ffa184d"
  },
  "kernelspec": {
   "display_name": "Python 3.8.10 64-bit ('venv': venv)",
   "language": "python",
   "name": "python3"
  },
  "language_info": {
   "codemirror_mode": {
    "name": "ipython",
    "version": 3
   },
   "file_extension": ".py",
   "mimetype": "text/x-python",
   "name": "python",
   "nbconvert_exporter": "python",
   "pygments_lexer": "ipython3",
   "version": "3.8.10"
  },
  "orig_nbformat": 4
 },
 "nbformat": 4,
 "nbformat_minor": 2
}
