{
 "cells": [
  {
   "cell_type": "code",
   "execution_count": 1,
   "metadata": {},
   "outputs": [],
   "source": [
    "from algos.paper_2011_algos.paper_method import Paper2011\n",
    "from helpers.examples.example_data import HOLE_METHOD_VARIATIONS\n",
    "from helpers.visuals.visualize import Visualizer\n",
    "from classes.workflow import Workflow\n",
    "from classes.machine import Machine\n",
    "from helpers.examples.example_gen import ExampleGen\n",
    "from helpers.simulation.simulation import Simulation, save_sims_to_excel\n",
    "from classes.scheduler import FillMethod, Scheduler\n",
    "from helpers.pick_best_method import find_seed_for\n",
    "import random\n",
    "\n",
    "random.seed(0)\n"
   ]
  },
  {
   "cell_type": "code",
   "execution_count": 3,
   "metadata": {},
   "outputs": [
    {
     "name": "stdout",
     "output_type": "stream",
     "text": [
      "blast_300.json\n",
      "blast_100_2.dot\n",
      "blast_100_0.dot\n",
      "blast_50.json\n",
      "blast_50.dot\n",
      "blast_50_2.json\n",
      "blast_500.json\n",
      "blast_100_0.json\n",
      "blast_100.dot\n",
      "blast_1000.json\n",
      "blast_200.json\n",
      "blast_50_0.dot\n",
      "blast_200.dot\n",
      "blast_300.dot\n",
      "blast_100_1.dot\n",
      "blast_500.dot\n",
      "blast_100_2.json\n",
      "blast_50_1.json\n",
      "blast_50_2.dot\n",
      "blast_50_0.json\n",
      "blast_1000.dot\n",
      "blast_50_1.dot\n",
      "blast_100_1.json\n",
      "blast_100.json\n"
     ]
    }
   ],
   "source": [
    "import os\n",
    "for entry in os.scandir('./data/blast'):\n",
    "    if entry.is_dir() or entry.is_file():\n",
    "        if '.json' in entry.name:\n",
    "            print(entry.name)"
   ]
  },
  {
   "cell_type": "markdown",
   "metadata": {},
   "source": [
    "# Load Workflows and machines"
   ]
  },
  {
   "cell_type": "code",
   "execution_count": 2,
   "metadata": {},
   "outputs": [],
   "source": [
    "ss = []\n",
    "n_machines = 4 \n",
    "network = 500\n",
    "\n",
    "# machines, workflows = ExampleGen.load_n(m_info=[8, 125 * 50], n_wfs=n_wfs)\n",
    "machines = Machine.load_n_static_machines(n_machines, network * 125)\n",
    "workflow = Workflow(id_=0, file_path=\"./data/epigenomics/epigenomics_100.json\", wf_type=\"epigenomics\", machines=machines, add_dummies=True)\n",
    "# print(workflow)\n",
    "# print(f\"n-wfs: {n} machines: {n_machines}  network: {network}\")"
   ]
  },
  {
   "cell_type": "code",
   "execution_count": 3,
   "metadata": {},
   "outputs": [
    {
     "name": "stdout",
     "output_type": "stream",
     "text": [
      "1102.3811319999998\n"
     ]
    }
   ],
   "source": [
    "Scheduler.heft(workflow.tasks, workflow.machines)\n",
    "workflow.set_scheduled(is_scheduled=True)\n",
    "print(workflow.wf_len)"
   ]
  },
  {
   "cell_type": "code",
   "execution_count": 4,
   "metadata": {},
   "outputs": [],
   "source": [
    "from algos.ruin_and_recreate import RuinRecreate\n",
    "from helpers.utils import find_perc_diff\n",
    "rr = RuinRecreate(workflow, machines, ruin_method=\"comp\")"
   ]
  },
  {
   "cell_type": "code",
   "execution_count": 5,
   "metadata": {},
   "outputs": [
    {
     "name": "stdout",
     "output_type": "stream",
     "text": [
      "0 7\n",
      "7 14\n",
      "14 21\n",
      "21 28\n",
      "28 35\n",
      "35 42\n",
      "42 49\n",
      "49 56\n",
      "56 63\n",
      "63 70\n",
      "70 77\n",
      "77 84\n",
      "1024.4315299999998\n",
      "7.07\n"
     ]
    }
   ],
   "source": [
    "new_workflow, machines = rr.run()\n",
    "print(new_workflow.wf_len)\n",
    "print(find_perc_diff(workflow.wf_len, new_workflow.wf_len))"
   ]
  },
  {
   "cell_type": "code",
   "execution_count": null,
   "metadata": {},
   "outputs": [],
   "source": []
  }
 ],
 "metadata": {
  "interpreter": {
   "hash": "512a0c9cd16f2345724b9d2b59c2b8a8698ffc8f58dc78edd213ea337ffa184d"
  },
  "kernelspec": {
   "display_name": "Python 3.8.10 64-bit ('venv': venv)",
   "language": "python",
   "name": "python3"
  },
  "language_info": {
   "codemirror_mode": {
    "name": "ipython",
    "version": 3
   },
   "file_extension": ".py",
   "mimetype": "text/x-python",
   "name": "python",
   "nbconvert_exporter": "python",
   "pygments_lexer": "ipython3",
   "version": "3.8.10"
  },
  "orig_nbformat": 4
 },
 "nbformat": 4,
 "nbformat_minor": 2
}
