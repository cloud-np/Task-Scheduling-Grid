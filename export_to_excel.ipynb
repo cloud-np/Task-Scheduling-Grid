{
 "cells": [
  {
   "cell_type": "code",
   "execution_count": 1,
   "metadata": {},
   "outputs": [],
   "source": [
    "from helpers.examples.example_data import HOLE_METHOD_VARIATIONS\n",
    "from helpers.visuals.visualize import Visualizer\n",
    "from classes.workflow import Workflow\n",
    "from classes.machine import Machine\n",
    "from helpers.examples.example_gen import ExampleGen\n",
    "from helpers.simulation.simulation import Simulation, save_sims_to_excel\n",
    "from classes.scheduler import FillMethod, Scheduler\n",
    "from helpers.pick_best_method import find_seed_for\n",
    "import random\n",
    "from itertools import product\n",
    "import xlsxwriter\n",
    "from algos.ruin_and_recreate import RuinRecreate\n",
    "from helpers.utils import find_perc_diff\n"
   ]
  },
  {
   "cell_type": "code",
   "execution_count": 2,
   "metadata": {},
   "outputs": [],
   "source": [
    "def write_to_excel(schedules, wks, bold, pos):\n",
    "\n",
    "    if pos is None:\n",
    "        pos = [2, 0]\n",
    "\n",
    "    # The image we insert needs at least 20 rows.\n",
    "    x_offset = pos[0]\n",
    "    y_offset = pos[1] + 1\n",
    "    # imgdata = io.BytesIO()\n",
    "    # fig.savefig(imgdata, format='png')\n",
    "    # wks.insert_image(s_pos[0], s_pos[1], '', {'image_data': imgdata})\n",
    "\n",
    "    # The image we insert needs at least 20 rows.\n",
    "    x_offset = 5\n",
    "    y_offset = 5\n",
    "\n",
    "    wks.set_column(0, 50, 20)\n",
    "\n",
    "    # Headers\n",
    "    wks.write(x_offset, y_offset, \"Heft\", bold)\n",
    "    wks.write(x_offset, y_offset + 1, \"RR\", bold)\n",
    "    wks.write(x_offset, y_offset + 2, \"Pecentage\", bold)\n",
    "    wks.write(x_offset, y_offset + 3, \"n\", bold)\n",
    "    wks.write(x_offset, y_offset + 4, \"Fat\", bold)\n",
    "    wks.write(x_offset, y_offset + 5, \"density\", bold)\n",
    "    wks.write(x_offset, y_offset + 6, \"regularity\", bold)\n",
    "    wks.write(x_offset, y_offset + 7, \"jump\", bold)\n",
    "\n",
    "    for s in schedules:\n",
    "        x_offset += 1\n",
    "        # Heft\n",
    "        wks.write(x_offset, y_offset, s['heft'])\n",
    "        # RR\n",
    "        wks.write(x_offset, y_offset + 1, int(s['rr']))\n",
    "        # perc\n",
    "        wks.write(x_offset, y_offset + 2, s['perc'])\n",
    "        # n\n",
    "        wks.write(x_offset, y_offset + 3, int(s['n']))\n",
    "        # fat\n",
    "        wks.write(x_offset, y_offset + 4, s['fat'])\n",
    "        # density\n",
    "        wks.write(x_offset, y_offset + 5, s['density'])\n",
    "        # regularity\n",
    "        wks.write(x_offset, y_offset + 6, s['regularity'])\n",
    "        # jump\n",
    "        wks.write(x_offset, y_offset + 7, s['jump'])"
   ]
  },
  {
   "cell_type": "code",
   "execution_count": 3,
   "metadata": {},
   "outputs": [
    {
     "ename": "NameError",
     "evalue": "name 'ruin_method' is not defined",
     "output_type": "error",
     "traceback": [
      "\u001b[0;31m---------------------------------------------------------------------------\u001b[0m",
      "\u001b[0;31mNameError\u001b[0m                                 Traceback (most recent call last)",
      "\u001b[1;32m/workspaces/Task-Scheduling-Grid/export_to_excel.ipynb Cell 3'\u001b[0m in \u001b[0;36m<module>\u001b[0;34m\u001b[0m\n\u001b[1;32m     <a href='vscode-notebook-cell://dev-container%2B5c5c77736c2e6c6f63616c686f73745c5562756e74752d32302e30345c686f6d655c636c6f75645c5461736b2d5363686564756c696e672d47726964/workspaces/Task-Scheduling-Grid/export_to_excel.ipynb#ch0000002vscode-remote?line=15'>16</a>\u001b[0m keys \u001b[39m=\u001b[39m [\u001b[39m'\u001b[39m\u001b[39mn\u001b[39m\u001b[39m'\u001b[39m, \u001b[39m'\u001b[39m\u001b[39mfat\u001b[39m\u001b[39m'\u001b[39m, \u001b[39m'\u001b[39m\u001b[39mdensity\u001b[39m\u001b[39m'\u001b[39m, \u001b[39m'\u001b[39m\u001b[39mregularity\u001b[39m\u001b[39m'\u001b[39m, \u001b[39m'\u001b[39m\u001b[39mjump\u001b[39m\u001b[39m'\u001b[39m]\n\u001b[1;32m     <a href='vscode-notebook-cell://dev-container%2B5c5c77736c2e6c6f63616c686f73745c5562756e74752d32302e30345c686f6d655c636c6f75645c5461736b2d5363686564756c696e672d47726964/workspaces/Task-Scheduling-Grid/export_to_excel.ipynb#ch0000002vscode-remote?line=16'>17</a>\u001b[0m values \u001b[39m=\u001b[39m [n, fat, density, regularity, jump]\n\u001b[0;32m---> <a href='vscode-notebook-cell://dev-container%2B5c5c77736c2e6c6f63616c686f73745c5562756e74752d32302e30345c686f6d655c636c6f75645c5461736b2d5363686564756c696e672d47726964/workspaces/Task-Scheduling-Grid/export_to_excel.ipynb#ch0000002vscode-remote?line=17'>18</a>\u001b[0m workbook \u001b[39m=\u001b[39m xlsxwriter\u001b[39m.\u001b[39mWorkbook(\u001b[39mf\u001b[39m\u001b[39m'\u001b[39m\u001b[39m{\u001b[39;00mruin_method\u001b[39m}\u001b[39;00m\u001b[39m.xlsx\u001b[39m\u001b[39m'\u001b[39m)\n",
      "\u001b[0;31mNameError\u001b[0m: name 'ruin_method' is not defined"
     ]
    }
   ],
   "source": [
    "random.seed(0)\n",
    "ss = []\n",
    "n_machines = 4\n",
    "network = 500\n",
    "ruin_methods = [\"random\", \"time\", \"comp\", \"comm\", \"order\", \"children\"]\n",
    "\n",
    "# machines, workflows = ExampleGen.load_n(m_info=[8, 125 * 50], n_wfs=n_wfs)\n",
    "minalpha = 20\n",
    "maxalpha = 50\n",
    "n = [50, 100, 200, 300, 400, 500, 600]\n",
    "fat = [0.2, 0.4, 0.8]\n",
    "density = [0.2, 0.8]\n",
    "regularity = [0.2, 0.8]\n",
    "jump = [1, 2, 4]\n",
    "\n",
    "keys = ['n', 'fat', 'density', 'regularity', 'jump']\n",
    "values = [n, fat, density, regularity, jump]\n",
    "workbook = xlsxwriter.Workbook('simulation.xlsx')\n"
   ]
  },
  {
   "cell_type": "code",
   "execution_count": null,
   "metadata": {},
   "outputs": [],
   "source": [
    "for rm in ruin_methods:\n",
    "    wks = workbook.add_worksheet(rm)\n",
    "    bold = workbook.add_format({'bold': True})\n",
    "    schedulers = []\n",
    "    for v in product(*values):\n",
    "        param = dict(zip(keys, v))\n",
    "        filename = \"./data/generated_dags/{}_{}_{}_{}_{}.dot\".format(param['n'], param['fat'],\n",
    "                                                                    param['density'],\n",
    "                                                                    param['regularity'],\n",
    "                                                                    param['jump'])\n",
    "        param = dict(zip(keys, v))\n",
    "        machines = Machine.load_n_static_machines(n_machines, network * 125)\n",
    "        wf = Workflow(id_=0, file_path=filename, wf_type=\"random\", machines=machines, add_dummies=True)\n",
    "        # machines = Machine.load_n_static_machines(n_machines, network * 125)\n",
    "        # wf = Workflow(id_=0, file_path=\"./data/generated_dags/100_0.8_0.2_0.8_2.dot\", wf_type=\"random\", machines=machines, add_dummies=True)\n",
    "        # wf = Workflow(id_=0, file_path=\"./data/epigenomics/epigenomics_100.json\", wf_type=\"epigenomics\", machines=machines, add_dummies=True)\n",
    "        # print(f\"n-wfs: {n} machines: {n_machines}  network: {network}\")\n",
    "\n",
    "        # %%\n",
    "        Scheduler.heft(wf.tasks, wf.machines)\n",
    "        wf.set_scheduled(is_scheduled=True)\n",
    "        print(filename)\n",
    "        print(int(wf.wf_len))\n",
    "\n",
    "        # %%\n",
    "        rr = RuinRecreate(wf, machines, ruin_method=rm)\n",
    "\n",
    "        # %%\n",
    "        rr_wf, machines = rr.run()\n",
    "        perc = find_perc_diff(wf.wf_len, rr_wf.wf_len)\n",
    "        print(int(rr_wf.wf_len), perc)\n",
    "        print(\"----------------------------------\")\n",
    "        param.update({'heft': int(wf.wf_len), 'rr': int(rr_wf.wf_len), 'perc': perc})\n",
    "        schedulers.append(param)\n",
    "    write_to_excel(schedulers, wks, bold, [0, 0])"
   ]
  },
  {
   "cell_type": "code",
   "execution_count": null,
   "metadata": {},
   "outputs": [],
   "source": [
    "workbook.close()"
   ]
  }
 ],
 "metadata": {
  "interpreter": {
   "hash": "31f2aee4e71d21fbe5cf8b01ff0e069b9275f58929596ceb00d14d90e3e16cd6"
  },
  "kernelspec": {
   "display_name": "Python 3.8.10 64-bit",
   "language": "python",
   "name": "python3"
  },
  "language_info": {
   "codemirror_mode": {
    "name": "ipython",
    "version": 3
   },
   "file_extension": ".py",
   "mimetype": "text/x-python",
   "name": "python",
   "nbconvert_exporter": "python",
   "pygments_lexer": "ipython3",
   "version": "3.10.4"
  },
  "orig_nbformat": 4
 },
 "nbformat": 4,
 "nbformat_minor": 2
}
