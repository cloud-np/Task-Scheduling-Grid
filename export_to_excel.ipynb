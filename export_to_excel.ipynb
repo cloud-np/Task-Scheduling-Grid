{
 "cells": [
  {
   "cell_type": "code",
   "execution_count": 1,
   "metadata": {},
   "outputs": [],
   "source": [
    "from algos.paper_2011_algos.paper_method import Paper2011\n",
    "from helpers.examples.example_data import HOLE_METHOD_VARIATIONS\n",
    "from helpers.visuals.visualize import Visualizer\n",
    "from classes.workflow import Workflow\n",
    "from classes.machine import Machine\n",
    "from helpers.examples.example_gen import ExampleGen\n",
    "from helpers.simulation.simulation import Simulation, save_sims_to_excel\n",
    "from classes.scheduler import FillMethod, Scheduler\n",
    "from helpers.pick_best_method import find_seed_for\n",
    "import random\n",
    "from itertools import product\n",
    "import xlsxwriter\n",
    "from algos.ruin_and_recreate import RuinRecreate\n",
    "from helpers.utils import find_perc_diff\n"
   ]
  },
  {
   "cell_type": "code",
   "execution_count": 2,
   "metadata": {},
   "outputs": [],
   "source": [
    "def write_to_excel(schedules, wks, bold, pos):\n",
    "\n",
    "    if pos is None:\n",
    "        pos = [2, 0]\n",
    "\n",
    "    # The image we insert needs at least 20 rows.\n",
    "    x_offset = pos[0]\n",
    "    y_offset = pos[1] + 1\n",
    "    # imgdata = io.BytesIO()\n",
    "    # fig.savefig(imgdata, format='png')\n",
    "    # wks.insert_image(s_pos[0], s_pos[1], '', {'image_data': imgdata})\n",
    "\n",
    "    # The image we insert needs at least 20 rows.\n",
    "    x_offset = 5\n",
    "    y_offset = 5\n",
    "\n",
    "    wks.set_column(0, 50, 20)\n",
    "\n",
    "    # Headers\n",
    "    wks.write(x_offset, y_offset, \"Heft\", bold)\n",
    "    wks.write(x_offset, y_offset + 1, \"RR\", bold)\n",
    "    wks.write(x_offset, y_offset + 2, \"Pecentage\", bold)\n",
    "    wks.write(x_offset, y_offset + 3, \"n\", bold)\n",
    "    wks.write(x_offset, y_offset + 4, \"Fat\", bold)\n",
    "    wks.write(x_offset, y_offset + 5, \"density\", bold)\n",
    "    wks.write(x_offset, y_offset + 6, \"regularity\", bold)\n",
    "    wks.write(x_offset, y_offset + 7, \"jump\", bold)\n",
    "\n",
    "    for s in schedules:\n",
    "        x_offset += 1\n",
    "        # Heft\n",
    "        wks.write(x_offset, y_offset, s['heft'])\n",
    "        # RR\n",
    "        wks.write(x_offset, y_offset + 1, int(s['rr']))\n",
    "        # perc\n",
    "        wks.write(x_offset, y_offset + 2, s['perc'])\n",
    "        # n\n",
    "        wks.write(x_offset, y_offset + 3, int(s['n']))\n",
    "        # fat\n",
    "        wks.write(x_offset, y_offset + 4, s['fat'])\n",
    "        # density\n",
    "        wks.write(x_offset, y_offset + 5, s['density'])\n",
    "        # regularity\n",
    "        wks.write(x_offset, y_offset + 6, s['regularity'])\n",
    "        # jump\n",
    "        wks.write(x_offset, y_offset + 7, s['jump'])"
   ]
  },
  {
   "cell_type": "code",
   "execution_count": 3,
   "metadata": {},
   "outputs": [],
   "source": [
    "random.seed(0)\n",
    "ss = []\n",
    "n_machines = 4\n",
    "network = 500\n",
    "ruin_method = \"order\"\n",
    "\n",
    "# machines, workflows = ExampleGen.load_n(m_info=[8, 125 * 50], n_wfs=n_wfs)\n",
    "minalpha = 20\n",
    "maxalpha = 50\n",
    "n = [50, 100, 200, 300, 400, 500, 600]\n",
    "fat = [0.2, 0.4, 0.8]\n",
    "density = [0.2, 0.8]\n",
    "regularity = [0.2, 0.8]\n",
    "jump = [1, 2, 4]\n",
    "\n",
    "keys = ['n', 'fat', 'density', 'regularity', 'jump']\n",
    "values = [n, fat, density, regularity, jump]\n",
    "\n",
    "workbook = xlsxwriter.Workbook(f'{ruin_method}.xlsx')\n",
    "wks = workbook.add_worksheet('Runned Simulation Info')\n",
    "bold = workbook.add_format({'bold': True})\n",
    "schedulers = []"
   ]
  },
  {
   "cell_type": "code",
   "execution_count": 4,
   "metadata": {},
   "outputs": [
    {
     "name": "stdout",
     "output_type": "stream",
     "text": [
      "./data/generated_dags/50_0.2_0.2_0.2_1.dot\n",
      "290\n"
     ]
    },
    {
     "ename": "KeyError",
     "evalue": "<classes.machine.Hole object at 0x7fc6764bb3a0>",
     "output_type": "error",
     "traceback": [
      "\u001b[0;31m---------------------------------------------------------------------------\u001b[0m",
      "\u001b[0;31mKeyError\u001b[0m                                  Traceback (most recent call last)",
      "\u001b[1;32m/workspaces/Task-Scheduling-Grid/export_to_excel.ipynb Cell 4'\u001b[0m in \u001b[0;36m<module>\u001b[0;34m\u001b[0m\n\u001b[1;32m     <a href='vscode-notebook-cell://dev-container%2B5c5c77736c245c5562756e74752d32302e30345c686f6d655c636c6f75645c5461736b2d5363686564756c696e672d47726964/workspaces/Task-Scheduling-Grid/export_to_excel.ipynb#ch0000003vscode-remote?line=21'>22</a>\u001b[0m rr \u001b[39m=\u001b[39m RuinRecreate(wf, machines, ruin_method\u001b[39m=\u001b[39mruin_method)\n\u001b[1;32m     <a href='vscode-notebook-cell://dev-container%2B5c5c77736c245c5562756e74752d32302e30345c686f6d655c636c6f75645c5461736b2d5363686564756c696e672d47726964/workspaces/Task-Scheduling-Grid/export_to_excel.ipynb#ch0000003vscode-remote?line=23'>24</a>\u001b[0m \u001b[39m# %%\u001b[39;00m\n\u001b[0;32m---> <a href='vscode-notebook-cell://dev-container%2B5c5c77736c245c5562756e74752d32302e30345c686f6d655c636c6f75645c5461736b2d5363686564756c696e672d47726964/workspaces/Task-Scheduling-Grid/export_to_excel.ipynb#ch0000003vscode-remote?line=24'>25</a>\u001b[0m rr_wf, machines \u001b[39m=\u001b[39m rr\u001b[39m.\u001b[39;49mrun()\n\u001b[1;32m     <a href='vscode-notebook-cell://dev-container%2B5c5c77736c245c5562756e74752d32302e30345c686f6d655c636c6f75645c5461736b2d5363686564756c696e672d47726964/workspaces/Task-Scheduling-Grid/export_to_excel.ipynb#ch0000003vscode-remote?line=25'>26</a>\u001b[0m perc \u001b[39m=\u001b[39m find_perc_diff(wf\u001b[39m.\u001b[39mwf_len, rr_wf\u001b[39m.\u001b[39mwf_len)\n\u001b[1;32m     <a href='vscode-notebook-cell://dev-container%2B5c5c77736c245c5562756e74752d32302e30345c686f6d655c636c6f75645c5461736b2d5363686564756c696e672d47726964/workspaces/Task-Scheduling-Grid/export_to_excel.ipynb#ch0000003vscode-remote?line=26'>27</a>\u001b[0m \u001b[39mprint\u001b[39m(\u001b[39mint\u001b[39m(rr_wf\u001b[39m.\u001b[39mwf_len), perc)\n",
      "File \u001b[0;32m/workspaces/Task-Scheduling-Grid/algos/ruin_and_recreate.py:74\u001b[0m, in \u001b[0;36mRuinRecreate.run\u001b[0;34m(self)\u001b[0m\n\u001b[1;32m     <a href='file:///workspaces/Task-Scheduling-Grid/algos/ruin_and_recreate.py?line=70'>71</a>\u001b[0m     ruined_tasks_ids \u001b[39m=\u001b[39m \u001b[39mself\u001b[39m\u001b[39m.\u001b[39m__ruin(best_scheduled_workflow)\n\u001b[1;32m     <a href='file:///workspaces/Task-Scheduling-Grid/algos/ruin_and_recreate.py?line=72'>73</a>\u001b[0m     \u001b[39m# Recreate part\u001b[39;00m\n\u001b[0;32m---> <a href='file:///workspaces/Task-Scheduling-Grid/algos/ruin_and_recreate.py?line=73'>74</a>\u001b[0m     \u001b[39mself\u001b[39;49m\u001b[39m.\u001b[39;49m__recreate(unscheduled_workflow, machines, ruined_tasks_ids)\n\u001b[1;32m     <a href='file:///workspaces/Task-Scheduling-Grid/algos/ruin_and_recreate.py?line=74'>75</a>\u001b[0m     best_scheduled_workflow, end_loop \u001b[39m=\u001b[39m \u001b[39mself\u001b[39m\u001b[39m.\u001b[39mgreedy_keep(\n\u001b[1;32m     <a href='file:///workspaces/Task-Scheduling-Grid/algos/ruin_and_recreate.py?line=75'>76</a>\u001b[0m         unscheduled_workflow, best_scheduled_workflow)\n\u001b[1;32m     <a href='file:///workspaces/Task-Scheduling-Grid/algos/ruin_and_recreate.py?line=77'>78</a>\u001b[0m \u001b[39mreturn\u001b[39;00m best_scheduled_workflow, machines\n",
      "File \u001b[0;32m/workspaces/Task-Scheduling-Grid/algos/ruin_and_recreate.py:168\u001b[0m, in \u001b[0;36mRuinRecreate.order_recreate\u001b[0;34m(self, workflow, machines, ruined_mt_ids)\u001b[0m\n\u001b[1;32m    <a href='file:///workspaces/Task-Scheduling-Grid/algos/ruin_and_recreate.py?line=165'>166</a>\u001b[0m s \u001b[39m=\u001b[39m \u001b[39mmin\u001b[39m(all_times, key\u001b[39m=\u001b[39m\u001b[39mlambda\u001b[39;00m x: x[\u001b[39m'\u001b[39m\u001b[39mtimes\u001b[39m\u001b[39m'\u001b[39m][\u001b[39m0\u001b[39m])\n\u001b[1;32m    <a href='file:///workspaces/Task-Scheduling-Grid/algos/ruin_and_recreate.py?line=166'>167</a>\u001b[0m start, end, machine, hole \u001b[39m=\u001b[39m Scheduler\u001b[39m.\u001b[39mfind_hole_or_machine(task, machines, time_type\u001b[39m=\u001b[39mTimeType\u001b[39m.\u001b[39mEFT, fill_method\u001b[39m=\u001b[39mFillMethod\u001b[39m.\u001b[39mFASTEST_FIT)\n\u001b[0;32m--> <a href='file:///workspaces/Task-Scheduling-Grid/algos/ruin_and_recreate.py?line=167'>168</a>\u001b[0m Scheduler\u001b[39m.\u001b[39;49mschedule_task(s[\u001b[39m'\u001b[39;49m\u001b[39mtimes\u001b[39;49m\u001b[39m'\u001b[39;49m], task, s[\u001b[39m'\u001b[39;49m\u001b[39mm\u001b[39;49m\u001b[39m'\u001b[39;49m], hole\u001b[39m=\u001b[39;49mhole, unsafe_scheduling\u001b[39m=\u001b[39;49m\u001b[39mFalse\u001b[39;49;00m)\n\u001b[1;32m    <a href='file:///workspaces/Task-Scheduling-Grid/algos/ruin_and_recreate.py?line=168'>169</a>\u001b[0m update_childen(task)\n\u001b[1;32m    <a href='file:///workspaces/Task-Scheduling-Grid/algos/ruin_and_recreate.py?line=169'>170</a>\u001b[0m \u001b[39m# update holes\u001b[39;00m\n",
      "File \u001b[0;32m/workspaces/Task-Scheduling-Grid/classes/scheduler.py:85\u001b[0m, in \u001b[0;36mScheduler.schedule_task\u001b[0;34m(times, task, machine, hole, unsafe_scheduling)\u001b[0m\n\u001b[1;32m     <a href='file:///workspaces/Task-Scheduling-Grid/classes/scheduler.py?line=82'>83</a>\u001b[0m     machine\u001b[39m.\u001b[39madd_task(task)\n\u001b[1;32m     <a href='file:///workspaces/Task-Scheduling-Grid/classes/scheduler.py?line=83'>84</a>\u001b[0m \u001b[39melse\u001b[39;00m:\n\u001b[0;32m---> <a href='file:///workspaces/Task-Scheduling-Grid/classes/scheduler.py?line=84'>85</a>\u001b[0m     machine\u001b[39m.\u001b[39;49madd_task_to_hole(task, hole)\n",
      "File \u001b[0;32m/workspaces/Task-Scheduling-Grid/classes/machine.py:88\u001b[0m, in \u001b[0;36mMachine.add_task_to_hole\u001b[0;34m(self, task, hole)\u001b[0m\n\u001b[1;32m     <a href='file:///workspaces/Task-Scheduling-Grid/classes/machine.py?line=85'>86</a>\u001b[0m \u001b[39mself\u001b[39m\u001b[39m.\u001b[39mholes_filled \u001b[39m+\u001b[39m\u001b[39m=\u001b[39m \u001b[39m1\u001b[39m\n\u001b[1;32m     <a href='file:///workspaces/Task-Scheduling-Grid/classes/machine.py?line=86'>87</a>\u001b[0m \u001b[39mself\u001b[39m\u001b[39m.\u001b[39mholes_saved_time \u001b[39m+\u001b[39m\u001b[39m=\u001b[39m task\u001b[39m.\u001b[39mend \u001b[39m-\u001b[39m task\u001b[39m.\u001b[39mstart\n\u001b[0;32m---> <a href='file:///workspaces/Task-Scheduling-Grid/classes/machine.py?line=87'>88</a>\u001b[0m \u001b[39mself\u001b[39;49m\u001b[39m.\u001b[39;49mremove_hole(hole)\n",
      "File \u001b[0;32m/workspaces/Task-Scheduling-Grid/classes/machine.py:123\u001b[0m, in \u001b[0;36mMachine.remove_hole\u001b[0;34m(self, hole)\u001b[0m\n\u001b[1;32m    <a href='file:///workspaces/Task-Scheduling-Grid/classes/machine.py?line=120'>121</a>\u001b[0m \u001b[39mdef\u001b[39;00m \u001b[39mremove_hole\u001b[39m(\u001b[39mself\u001b[39m, hole):\n\u001b[1;32m    <a href='file:///workspaces/Task-Scheduling-Grid/classes/machine.py?line=121'>122</a>\u001b[0m     \u001b[39mself\u001b[39m\u001b[39m.\u001b[39mholes_filled \u001b[39m+\u001b[39m\u001b[39m=\u001b[39m \u001b[39m1\u001b[39m\n\u001b[0;32m--> <a href='file:///workspaces/Task-Scheduling-Grid/classes/machine.py?line=122'>123</a>\u001b[0m     \u001b[39mself\u001b[39;49m\u001b[39m.\u001b[39;49mholes\u001b[39m.\u001b[39;49mremove(hole)\n",
      "\u001b[0;31mKeyError\u001b[0m: <classes.machine.Hole object at 0x7fc6764bb3a0>"
     ]
    }
   ],
   "source": [
    "for v in product(*values):\n",
    "    param = dict(zip(keys, v))\n",
    "    filename = \"./data/generated_dags/{}_{}_{}_{}_{}.dot\".format(param['n'], param['fat'],\n",
    "                                                                 param['density'],\n",
    "                                                                 param['regularity'],\n",
    "                                                                 param['jump'])\n",
    "    param = dict(zip(keys, v))\n",
    "    machines = Machine.load_n_static_machines(n_machines, network * 125)\n",
    "    wf = Workflow(id_=0, file_path=filename, wf_type=\"random\", machines=machines, add_dummies=True)\n",
    "    # machines = Machine.load_n_static_machines(n_machines, network * 125)\n",
    "    # wf = Workflow(id_=0, file_path=\"./data/generated_dags/100_0.8_0.2_0.8_2.dot\", wf_type=\"random\", machines=machines, add_dummies=True)\n",
    "    # wf = Workflow(id_=0, file_path=\"./data/epigenomics/epigenomics_100.json\", wf_type=\"epigenomics\", machines=machines, add_dummies=True)\n",
    "    # print(f\"n-wfs: {n} machines: {n_machines}  network: {network}\")\n",
    "\n",
    "    # %%\n",
    "    Scheduler.heft(wf.tasks, wf.machines)\n",
    "    wf.set_scheduled(is_scheduled=True)\n",
    "    print(filename)\n",
    "    print(int(wf.wf_len))\n",
    "\n",
    "    # %%\n",
    "    rr = RuinRecreate(wf, machines, ruin_method=ruin_method)\n",
    "\n",
    "    # %%\n",
    "    rr_wf, machines = rr.run()\n",
    "    perc = find_perc_diff(wf.wf_len, rr_wf.wf_len)\n",
    "    print(int(rr_wf.wf_len), perc)\n",
    "    print(\"----------------------------------\")\n",
    "    param.update({'heft': int(wf.wf_len), 'rr': int(rr_wf.wf_len), 'perc': perc})\n",
    "    schedulers.append(param)"
   ]
  },
  {
   "cell_type": "code",
   "execution_count": null,
   "metadata": {},
   "outputs": [],
   "source": [
    "write_to_excel(schedulers, wks, bold, [0, 0])\n",
    "workbook.close()"
   ]
  }
 ],
 "metadata": {
  "interpreter": {
   "hash": "31f2aee4e71d21fbe5cf8b01ff0e069b9275f58929596ceb00d14d90e3e16cd6"
  },
  "kernelspec": {
   "display_name": "Python 3.8.10 64-bit",
   "language": "python",
   "name": "python3"
  },
  "language_info": {
   "codemirror_mode": {
    "name": "ipython",
    "version": 3
   },
   "file_extension": ".py",
   "mimetype": "text/x-python",
   "name": "python",
   "nbconvert_exporter": "python",
   "pygments_lexer": "ipython3",
   "version": "3.10.4"
  },
  "orig_nbformat": 4
 },
 "nbformat": 4,
 "nbformat_minor": 2
}
